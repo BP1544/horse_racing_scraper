{
 "cells": [
  {
   "cell_type": "code",
   "execution_count": 1,
   "id": "94ff9a3f-639c-489d-897d-b237ad6c5524",
   "metadata": {},
   "outputs": [],
   "source": [
    "from bs4 import BeautifulSoup\n",
    "from ipynb.fs.full.racing_tv_functions import *\n",
    "\n",
    "import datetime\n",
    "import json\n",
    "import numpy as np\n",
    "import pandas as pd\n",
    "import re\n",
    "import requests\n",
    "import time"
   ]
  },
  {
   "cell_type": "code",
   "execution_count": 2,
   "id": "6593eb83-f881-4145-82d1-7fde2a93b6eb",
   "metadata": {},
   "outputs": [
    {
     "data": {
      "text/plain": [
       "'Date is already up to date.'"
      ]
     },
     "execution_count": 2,
     "metadata": {},
     "output_type": "execute_result"
    }
   ],
   "source": [
    "update_race_data(delay = 0.1)"
   ]
  },
  {
   "cell_type": "code",
   "execution_count": 3,
   "id": "d4a0c171-2eea-4866-afd5-fec89f4b87ff",
   "metadata": {},
   "outputs": [
    {
     "name": "stdout",
     "output_type": "stream",
     "text": [
      "Collected race data for Ripon at 13:30\n",
      "Collected race data for Ripon at 14:05\n",
      "Collected race data for Ripon at 14:40\n",
      "Collected race data for Ripon at 15:15\n",
      "Collected race data for Ripon at 15:50\n",
      "Collected race data for Ripon at 16:23\n",
      "Collected race data for Ripon at 16:58\n",
      "Collected race data for Ripon at 17:33\n",
      "Collected race data for Epsom at 13:35\n",
      "Collected race data for Epsom at 14:10\n",
      "Collected race data for Epsom at 14:45\n",
      "Collected race data for Epsom at 15:20\n",
      "Collected race data for Epsom at 15:55\n",
      "Collected race data for Epsom at 16:28\n",
      "Collected race data for Epsom at 17:03\n",
      "Collected race data for Cartmel at 14:20\n",
      "Collected race data for Cartmel at 14:55\n",
      "Collected race data for Cartmel at 15:30\n",
      "Collected race data for Cartmel at 16:05\n",
      "Collected race data for Cartmel at 16:43\n",
      "Collected race data for Cartmel at 17:18\n",
      "Collected race data for Chepstow at 13:53\n",
      "Collected race data for Chepstow at 14:28\n",
      "Collected race data for Chepstow at 15:03\n",
      "Collected race data for Chepstow at 15:38\n",
      "Collected race data for Chepstow at 16:13\n",
      "Collected race data for Chepstow at 16:48\n",
      "Collected race data for Chepstow at 17:23\n",
      "Collected race data for Downpatrick at 13:58\n",
      "Collected race data for Downpatrick at 14:33\n",
      "Collected race data for Downpatrick at 15:08\n",
      "Collected race data for Downpatrick at 15:43\n",
      "Collected race data for Downpatrick at 16:18\n",
      "Collected race data for Downpatrick at 16:53\n",
      "Collected race data for Downpatrick at 17:28\n",
      "Collected race data for Southwell at 13:45\n",
      "Collected race data for Southwell at 14:15\n",
      "Collected race data for Southwell at 14:50\n",
      "Collected race data for Southwell at 15:25\n",
      "Collected race data for Southwell at 16:00\n",
      "Collected race data for Southwell at 16:33\n",
      "Collected race data for Southwell at 17:08\n",
      "Collected race data for Southwell at 17:38\n",
      "Collected race data for Ballinrobe at 16:38\n",
      "Collected race data for Ballinrobe at 17:13\n",
      "Collected race data for Ballinrobe at 17:43\n",
      "Collected race data for Ballinrobe at 18:13\n",
      "Collected race data for Ballinrobe at 18:43\n",
      "Collected race data for Ballinrobe at 19:13\n",
      "Collected race data for Ballinrobe at 19:43\n",
      "Collected race data for Ballinrobe at 20:13\n"
     ]
    }
   ],
   "source": [
    "today_races = todays_data_df(delay = 0.1)"
   ]
  },
  {
   "cell_type": "code",
   "execution_count": 4,
   "id": "5d08992c-3e67-4cfe-90ac-0421b302d538",
   "metadata": {},
   "outputs": [],
   "source": [
    "horse_df = unpack_json_to_df('historical_horse_data.json')"
   ]
  },
  {
   "cell_type": "code",
   "execution_count": 5,
   "id": "c3b232e6-46da-42eb-9b49-56787079e481",
   "metadata": {},
   "outputs": [],
   "source": [
    "cleaned_df = horse_df.dropna(subset=['Position'])\n",
    "cleaned_df = cleaned_df.replace('N/A', np.nan)\n",
    "cleaned_df[['Finishing Speed (%)', 'Top Speed Value (mph)']] = cleaned_df[['Finishing Speed (%)', 'Top Speed Value (mph)']].astype(float)"
   ]
  },
  {
   "cell_type": "code",
   "execution_count": null,
   "id": "710fe152-59ba-4ce5-b3d1-8f7223dbcc9d",
   "metadata": {},
   "outputs": [],
   "source": [
    "conditions = {}\n",
    "id_list = cleaned_df['Race Id'].unique().tolist()\n",
    "for race_id in id_list:\n",
    "    conditions.update({race_id : finish_condition(cleaned_df, race_id)})"
   ]
  },
  {
   "cell_type": "code",
   "execution_count": null,
   "id": "e04d4720-4291-42d1-a24d-3673dad06fc3",
   "metadata": {},
   "outputs": [],
   "source": [
    "high_condition_dict, med_condition_dict, low_condition_dict = ({} for i in range(3))\n",
    "\n",
    "for race_id in conditions.keys():\n",
    "    condition_list = conditions[race_id]\n",
    "    # Update dictionary with {race_id, mean + std}\n",
    "    high_condition_dict.update({race_id : condition_list[0] + condition_list[1]})\n",
    "    # Update dictionary with {race_id, mean + 0.8 * std}\n",
    "    med_condition_dict.update({race_id : condition_list[0] + 0.8 * condition_list[1]})\n",
    "    # Update dictionary with {race_id, mean + 0.5 * std}\n",
    "    low_condition_dict.update({race_id : condition_list[0] + 0.5 * condition_list[1]})"
   ]
  },
  {
   "cell_type": "code",
   "execution_count": null,
   "id": "219b6c21-c177-4e77-a655-1c4bd13c86a0",
   "metadata": {},
   "outputs": [],
   "source": [
    "high_fast_list = []\n",
    "speed_list = cleaned_df['Finishing Speed (%)'].tolist()\n",
    "id_list = cleaned_df['Race Id'].tolist()\n",
    "\n",
    "for i in range(len(speed_list)):\n",
    "    condition = speed_list[i] >= high_condition_dict[id_list[i]]\n",
    "    if condition:\n",
    "        high_fast_list.append(True)\n",
    "    else:\n",
    "        high_fast_list.append(np.nan)"
   ]
  },
  {
   "cell_type": "code",
   "execution_count": null,
   "id": "bc098f36-02d8-48dd-9c1e-3b185978c6c2",
   "metadata": {},
   "outputs": [],
   "source": [
    "med_fast_list = []\n",
    "\n",
    "for i in range(len(speed_list)):\n",
    "    condition = speed_list[i] >= med_condition_dict[id_list[i]]\n",
    "    if condition:\n",
    "        med_fast_list.append(True)\n",
    "    else:\n",
    "        med_fast_list.append(np.nan)"
   ]
  },
  {
   "cell_type": "code",
   "execution_count": null,
   "id": "9027b747-a56e-4f13-8433-64f6171657bd",
   "metadata": {},
   "outputs": [],
   "source": [
    "low_fast_list = []\n",
    "\n",
    "for i in range(len(speed_list)):\n",
    "    condition = speed_list[i] >= low_condition_dict[id_list[i]]\n",
    "    if condition:\n",
    "        low_fast_list.append(True)\n",
    "    else:\n",
    "        low_fast_list.append(np.nan)"
   ]
  },
  {
   "cell_type": "code",
   "execution_count": null,
   "id": "fc8936b7-14c6-498a-af35-0a1b550b7cd8",
   "metadata": {},
   "outputs": [],
   "source": [
    "cleaned_df.insert(0, 'Low Fast Finish' , low_fast_list)\n",
    "cleaned_df.insert(0, 'Med Fast Finish' , med_fast_list)\n",
    "cleaned_df.insert(0, 'High Fast Finish' , high_fast_list)"
   ]
  },
  {
   "cell_type": "code",
   "execution_count": null,
   "id": "47b46b70-6b7b-49b8-93a5-7800f370650f",
   "metadata": {},
   "outputs": [],
   "source": [
    "grouped_df = cleaned_df.groupby([cleaned_df['Horse']]).agg(\n",
    "    **{\n",
    "        # 'Best Finish (%)' : pd.NamedAgg(column = 'Finishing Speed (%)', aggfunc = 'max'),\n",
    "        # 'Mean Finish (%)' : pd.NamedAgg(column = 'Finishing Speed (%)', aggfunc = 'mean'),\n",
    "        # 'Worst Finish (%)' : pd.NamedAgg(column = 'Finishing Speed (%)', aggfunc = 'min'),\n",
    "        # 'Std Finish (%)' : pd.NamedAgg(column = 'Finishing Speed (%)', aggfunc = 'std'),\n",
    "        # 'Median Finish (%)' : pd.NamedAgg(column = 'Finishing Speed (%)', aggfunc = 'median'),\n",
    "        'Best Speed (mph)' : pd.NamedAgg(column = 'Top Speed Value (mph)', aggfunc = 'max'),\n",
    "        'Best Pos' : pd.NamedAgg(column = 'Position', aggfunc = 'min'),\n",
    "        'Mean Pos' : pd.NamedAgg(column = 'Position', aggfunc = 'mean'),\n",
    "        'Worst Pos' : pd.NamedAgg(column = 'Position', aggfunc = 'max'),\n",
    "        'Std Pos' : pd.NamedAgg(column = 'Position', aggfunc = 'std'),\n",
    "        'High Fast Finishes' : pd.NamedAgg(column = 'High Fast Finish', aggfunc = 'count'),\n",
    "        'Med Fast Finishes' : pd.NamedAgg(column = 'Med Fast Finish', aggfunc = 'count'),\n",
    "        'Low Fast Finishes' : pd.NamedAgg(column = 'Low Fast Finish', aggfunc = 'count'),\n",
    "        'Num Races' : pd.NamedAgg(column = 'Position', aggfunc = 'count'), # Number of non-null position values (we have removed all null values)\n",
    "    }\n",
    ")\n",
    "\n",
    "grouped_df['High Fast Races (%)'] = grouped_df['High Fast Finishes'] / grouped_df['Num Races']\n",
    "grouped_df['Med Fast Races (%)'] = grouped_df['Med Fast Finishes'] / grouped_df['Num Races']\n",
    "grouped_df['Low Fast Races (%)'] = grouped_df['Low Fast Finishes'] / grouped_df['Num Races']"
   ]
  },
  {
   "cell_type": "code",
   "execution_count": null,
   "id": "473e1f1a-4bf0-4d51-979c-41cec7af3c33",
   "metadata": {},
   "outputs": [],
   "source": [
    "grouped_df = grouped_df[['High Fast Races (%)', 'Med Fast Races (%)', 'Low Fast Races (%)', 'Best Speed (mph)',\n",
    "                         'Best Pos', 'Mean Pos', 'Worst Pos', 'Std Pos', 'High Fast Finishes', 'Med Fast Finishes',\n",
    "                         'Low Fast Finishes', 'Num Races']]"
   ]
  },
  {
   "cell_type": "code",
   "execution_count": null,
   "id": "1cb6a9a7-aa4f-4261-aebd-662dba13097d",
   "metadata": {},
   "outputs": [],
   "source": [
    "today_races = today_races[['Off Time', 'Track', 'Tips']]\n",
    "\n",
    "today_races = today_races.join(grouped_df)\n",
    "\n",
    "today_races = today_races.reset_index().set_index('Off Time')\n",
    "today_races = today_races[['Track', 'Horse', 'High Fast Races (%)', 'Med Fast Races (%)', 'Low Fast Races (%)',\n",
    "                           'Best Speed (mph)', 'Best Pos', 'Mean Pos', 'Worst Pos', 'Std Pos',\n",
    "#                           'High Fast Finishes', 'Med Fast Finishes', 'Low Fast Finishes',\n",
    "                           'Num Races', 'Tips']]"
   ]
  },
  {
   "cell_type": "code",
   "execution_count": null,
   "id": "1af674cd-f706-4a42-a861-6f03643bbe4a",
   "metadata": {},
   "outputs": [],
   "source": [
    "todays_date = pd.Timestamp.today().strftime('%d-%m-%Y')\n",
    "today_races.round(2).to_csv('./Horse Data/horse_data_{:s}.csv'.format(todays_date))"
   ]
  },
  {
   "cell_type": "code",
   "execution_count": null,
   "id": "55cc5d29-06cb-4004-ba98-2fb237ce6c1d",
   "metadata": {},
   "outputs": [],
   "source": [
    "today_races"
   ]
  }
 ],
 "metadata": {
  "kernelspec": {
   "display_name": "Python [conda env:base] *",
   "language": "python",
   "name": "conda-base-py"
  },
  "language_info": {
   "codemirror_mode": {
    "name": "ipython",
    "version": 3
   },
   "file_extension": ".py",
   "mimetype": "text/x-python",
   "name": "python",
   "nbconvert_exporter": "python",
   "pygments_lexer": "ipython3",
   "version": "3.11.5"
  }
 },
 "nbformat": 4,
 "nbformat_minor": 5
}
